{
 "cells": [
  {
   "cell_type": "markdown",
   "id": "d13cf1da-7ea5-4174-8103-c14cd2d36eb3",
   "metadata": {},
   "source": [
    "We are currently working in the following directory:"
   ]
  },
  {
   "cell_type": "code",
   "execution_count": 1,
   "id": "541d975b-dd3b-4651-a248-6a7e1f74d54c",
   "metadata": {},
   "outputs": [
    {
     "name": "stdout",
     "output_type": "stream",
     "text": [
      "/c/Users/wenky/DST/student-a7/jupyterlab_practice\n"
     ]
    }
   ],
   "source": [
    "!pwd"
   ]
  },
  {
   "cell_type": "markdown",
   "id": "ce7caf8f-bef0-40fd-90a5-3d64fa1b72ce",
   "metadata": {},
   "source": [
    "To time how long it takes to run a Python cell, we could use the `timeit` command inside a cell as is shown below:\n",
    "\n",
    "```python\n",
    "import timeit\n",
    "\n",
    "# Define the code you want to time\n",
    "code_to_time = \"\"\"\n",
    "for i in range(1000):\n",
    "    # Code you want to time goes here\n",
    "    pass\n",
    "\"\"\"\n",
    "\n",
    "# Time the code\n",
    "execution_time = timeit.timeit(stmt=code_to_time, number=1000)\n",
    "print(\"Execution time:\", execution_time, \"seconds\")\n"
   ]
  },
  {
   "cell_type": "code",
   "execution_count": 2,
   "id": "30c5c6ef-e6d1-4c93-86ee-4ef56807c779",
   "metadata": {},
   "outputs": [
    {
     "name": "stderr",
     "output_type": "stream",
     "text": [
      "[NbConvertApp] Converting notebook question12.ipynb to html\n",
      "[NbConvertApp] Writing 272901 bytes to question12.html\n"
     ]
    }
   ],
   "source": [
    "!jupyter nbconvert --to html --TemplateExporter.exclude_input=True question12.ipynb"
   ]
  },
  {
   "cell_type": "markdown",
   "id": "ab1bc88e-314b-4b1d-8a2e-f414b930705f",
   "metadata": {},
   "source": [
    "![]( image/question12.png)"
   ]
  },
  {
   "cell_type": "code",
   "execution_count": null,
   "id": "c2e710cd-3a5f-4bac-a7bf-4ecb827e6c1e",
   "metadata": {},
   "outputs": [],
   "source": []
  }
 ],
 "metadata": {
  "kernelspec": {
   "display_name": "Python 3 (ipykernel)",
   "language": "python",
   "name": "python3"
  },
  "language_info": {
   "codemirror_mode": {
    "name": "ipython",
    "version": 3
   },
   "file_extension": ".py",
   "mimetype": "text/x-python",
   "name": "python",
   "nbconvert_exporter": "python",
   "pygments_lexer": "ipython3",
   "version": "3.12.2"
  }
 },
 "nbformat": 4,
 "nbformat_minor": 5
}
