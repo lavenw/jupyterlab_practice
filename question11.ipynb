{
 "cells": [
  {
   "cell_type": "markdown",
   "id": "1c0cec50-2699-4126-a09a-66e9f84f7230",
   "metadata": {},
   "source": [
    "# Jiaqi(Lavender) Wen\n",
    "## Notebook for assignment 7"
   ]
  },
  {
   "cell_type": "code",
   "execution_count": 1,
   "id": "1d128f32-6073-45f4-8882-f247ad3cbff8",
   "metadata": {},
   "outputs": [
    {
     "name": "stdout",
     "output_type": "stream",
     "text": [
      "5.0\n"
     ]
    }
   ],
   "source": [
    "def compute_mean(lst):\n",
    "    mean = sum(lst) / len(lst)\n",
    "    print(mean)\n",
    "\n",
    "compute_mean([2, 4, 6, 8])"
   ]
  },
  {
   "cell_type": "markdown",
   "id": "f305161a-8772-422e-bbd3-56584049b22b",
   "metadata": {},
   "source": [
    "### Explanation\n",
    "\n",
    "The code above defines a Python function called `compute_mean` that computes the mean (average) of the values in a given list. \n",
    "\n",
    "The mean of a list of numbers can be expressed in two different ways:\n",
    "\n",
    "1. **Using the sample mean notation (\\(\\bar{x}\\)):**\n",
    "\n",
    "   \\[\n",
    "   \\bar{x} = \\frac{\\sum_{i=1}^{n} x_i}{n}\n",
    "   \\]\n",
    "\n",
    "   Where:\n",
    "   - \\(\\bar{x}\\) represents the sample mean.\n",
    "   - \\(x_i\\) represents each individual value in the sample.\n",
    "   - \\(n\\) represents the number of values in the sample.\n",
    "\n",
    "2. **Using the population mean notation (\\(\\mu\\)):**\n",
    "\n",
    "   \\[\n",
    "   \\mu = \\frac{\\sum_{i=1}^{N} x_i}{N}\n",
    "   \\]\n",
    "\n",
    "   Where:\n",
    "   - \\(\\mu\\) represents the population mean.\n",
    "   - \\(x_i\\) represents each individual value in the population.\n",
    "   - \\(N\\) represents the total number of values in the population.\n",
    "\n",
    "The function `compute_mean` takes a list (`lst`) as input, calculates the sum of all elements in the list, divides the sum by the total number of elements in the list, and then prints the result.\n",
    "\n",
    "For example, calling `compute_mean([2, 4, 6, 8])` would output the mean of the values in the list, which is 5.0."
   ]
  },
  {
   "cell_type": "markdown",
   "id": "52f9831f-9258-49c9-bdf1-ee4002deb32d",
   "metadata": {},
   "source": [
    "![](image/question11.jpg)"
   ]
  },
  {
   "cell_type": "markdown",
   "id": "784c1cba-73b4-4998-a1ef-1bc94d5698e9",
   "metadata": {},
   "source": [
    "![](image/question_11.png)"
   ]
  },
  {
   "cell_type": "code",
   "execution_count": null,
   "id": "e30ed782-47e1-4bd0-b99e-692ca02c3f67",
   "metadata": {},
   "outputs": [],
   "source": []
  }
 ],
 "metadata": {
  "kernelspec": {
   "display_name": "Python 3 (ipykernel)",
   "language": "python",
   "name": "python3"
  },
  "language_info": {
   "codemirror_mode": {
    "name": "ipython",
    "version": 3
   },
   "file_extension": ".py",
   "mimetype": "text/x-python",
   "name": "python",
   "nbconvert_exporter": "python",
   "pygments_lexer": "ipython3",
   "version": "3.12.2"
  }
 },
 "nbformat": 4,
 "nbformat_minor": 5
}
